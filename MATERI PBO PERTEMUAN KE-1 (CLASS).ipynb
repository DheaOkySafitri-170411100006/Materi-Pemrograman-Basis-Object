{
 "cells": [
  {
   "cell_type": "markdown",
   "metadata": {},
   "source": [
    "# MATERI PBO PERTEMUAN KE-1 (CLASS VS OBJECT)"
   ]
  },
  {
   "cell_type": "markdown",
   "metadata": {},
   "source": [
    "class"
   ]
  },
  {
   "cell_type": "markdown",
   "metadata": {},
   "source": [
    "* Object merupakan suatu realisasi dari sebuah class.\n",
    "\n",
    "* Class merupakan template dari suatu objek yang berisikan Atribut dan Method. Ketika membuat suatu program, saat pendefinisian tidak mendefinisakan objek yang sesungguhnya, melainkan class dari sebuah object. Setiap class tersusun atas 2 komponen yaitu Atribut dan Behavior atau perilaku. \n",
    "\n",
    "* Atribut yaitu sesuatu yang individual yang berguna untuk pembeda antar object. setiap instance dari suatu class mempunyai nilai yang tidak sama. Class mendefinisikan jenis atribut, dan setiap instance menyimpan nilainya sendiri untuk atribut tersebut, hal ini bisa juga disebut dengan Instance Variabels.\n",
    "\n",
    "* Perilaku atau Behavior yaitu perilaku suatu class yang menentukan apa yang dilakukan oleh instance saat keadaannya berubah. Perilaku merupakan cara object melakukan terhadap dirinya sendiri.\n",
    "\n",
    "* Method digunakan untuk mendifinisikan prilaku object."
   ]
  },
  {
   "cell_type": "markdown",
   "metadata": {},
   "source": [
    "Berikut contoh-contoh class:"
   ]
  },
  {
   "cell_type": "markdown",
   "metadata": {},
   "source": [
    "# Class Kubus"
   ]
  },
  {
   "cell_type": "code",
   "execution_count": 18,
   "metadata": {},
   "outputs": [
    {
     "name": "stdout",
     "output_type": "stream",
     "text": [
      "4\n",
      "luas 16\n",
      "Volum 64\n",
      "luas permukaan 24\n"
     ]
    }
   ],
   "source": [
    "class kubus:\n",
    "    def __init__ (self,a):\n",
    "        self.sisi=a\n",
    "    \n",
    "    def tampilkansisi (self) :\n",
    "        print(self.sisi)\n",
    "    def luas (self) :\n",
    "        print(\"luas\", self.sisi**2)\n",
    "    def volum (self) :\n",
    "        print(\"Volum\", self.sisi**3)\n",
    "    def luaspermukaan (self) :\n",
    "        print(\"luas permukaan\", self.sisi*6)\n",
    "    \n",
    "        \n",
    "        \n",
    "kubus1=kubus(4)\n",
    "kubus1.tampilkansisi()\n",
    "kubus1.luas()\n",
    "kubus1.volum()\n",
    "kubus1.luaspermukaan()\n",
    "\n",
    "\n",
    "        "
   ]
  },
  {
   "cell_type": "markdown",
   "metadata": {},
   "source": [
    "# Class Mahasiswa"
   ]
  },
  {
   "cell_type": "code",
   "execution_count": 34,
   "metadata": {},
   "outputs": [
    {
     "name": "stdout",
     "output_type": "stream",
     "text": [
      "Nim :  6\n",
      "Nama :  dhea\n",
      "ipk :  3\n",
      "sangat memuaskan\n"
     ]
    }
   ],
   "source": [
    "class Mahasiswa:\n",
    "    def __init__ (self,n,m,i):\n",
    "        self.npm = n\n",
    "        self.nama = m\n",
    "        self.ipk = i\n",
    "    \n",
    "    def tampilkannama(self):\n",
    "        print (\"Nim : \",self.npm)\n",
    "        print (\"Nama : \",self.nama)\n",
    "        print (\"ipk : \",self.ipk)\n",
    "        \n",
    "    def predikat(self) :\n",
    "        if self.ipk >=3.5:\n",
    "            print (\"concluder\")\n",
    "        elif self.ipk <3.5 or self.ipk>3 :\n",
    "            print (\"sangat memuaskan\")\n",
    "        elif self.ipk <=3 or self.ipk >2.5:\n",
    "            print (\"memuaskan\")\n",
    "        else:\n",
    "            print (\"cukup\")\n",
    "            \n",
    "        \n",
    "Mahasiswa1= Mahasiswa (6,\"dhea\", 3)\n",
    "Mahasiswa1.tampilkannama()\n",
    "Mahasiswa1.predikat ()\n",
    "\n",
    "    \n",
    "    "
   ]
  },
  {
   "cell_type": "markdown",
   "metadata": {},
   "source": [
    "# Class ATM no nasabah"
   ]
  },
  {
   "cell_type": "code",
   "execution_count": 3,
   "metadata": {},
   "outputs": [
    {
     "name": "stdout",
     "output_type": "stream",
     "text": [
      "No Nasabah :  123\n",
      "Nama :  dhea\n",
      "NO Rekening:  321\n",
      "ambil uang : 1000\n",
      "jumlah uang yang diambil : 1000\n",
      "saldo akhir :  4000\n",
      "setor uang :1000\n",
      "jumlah uang yang disetor: 1000\n",
      "saldo akhir : 5000\n",
      "Saldo sekarang : 5000\n"
     ]
    }
   ],
   "source": [
    "class nasabah :\n",
    "    def __init__ (self,a,b,c):\n",
    "        self.nonasabah = a\n",
    "        self.nama = b\n",
    "        self.noreq = c\n",
    "    def tampilkannonasabah (self):\n",
    "        print (\"No Nasabah : \",self.nonasabah)\n",
    "        print (\"Nama : \", self.nama)\n",
    "        print (\"NO Rekening: \",self.noreq)\n",
    "        \n",
    "nasabah1 = nasabah (123,\"dhea\",321)\n",
    "nasabah1.tampilkannonasabah ()\n",
    "\n",
    "class rekening :\n",
    "    def __init__ (self,a,b):\n",
    "        self.noreq = a\n",
    "        self.saldo = b\n",
    "    \n",
    "    def ambil_uang(self):\n",
    "        ambil_uang=int (input(\"ambil uang : \"))\n",
    "        hasil = self.saldo-ambil_uang\n",
    "        self.saldo = hasil\n",
    "        print (\"jumlah uang yang diambil :\",ambil_uang)\n",
    "        print (\"saldo akhir : \", hasil)\n",
    "    def setor_uang (self) :\n",
    "        setor_uang = int (input(\"setor uang :\"))\n",
    "        hasil2 = self.saldo+setor_uang\n",
    "        self.saldo = hasil2\n",
    "        print (\"jumlah uang yang disetor:\", setor_uang)\n",
    "        print (\"saldo akhir :\", hasil2)\n",
    "    def saldo_sekarang (self) :\n",
    "        print (\"Saldo sekarang :\", self.saldo)\n",
    "        \n",
    "\n",
    "rekening1=rekening (123456,5000)\n",
    "rekening1.ambil_uang()\n",
    "rekening1.setor_uang()\n",
    "rekening1.saldo_sekarang ()"
   ]
  },
  {
   "cell_type": "markdown",
   "metadata": {},
   "source": [
    "# Class ATM "
   ]
  },
  {
   "cell_type": "code",
   "execution_count": 50,
   "metadata": {},
   "outputs": [
    {
     "name": "stdout",
     "output_type": "stream",
     "text": [
      "ambil uang : 1000\n",
      "jumlah uang yang diambil : 1000\n",
      "saldo akhir :  4000\n"
     ]
    }
   ],
   "source": [
    "class rekening :\n",
    "    def __init__ (self,a,b):\n",
    "        self.noreq = a\n",
    "        self.saldo = b\n",
    "    \n",
    "    def ambil_uang(self):\n",
    "        ambil_uang=int (input(\"ambil uang : \"))\n",
    "        hasil = self.saldo-ambil_uang\n",
    "        print (\"jumlah uang yang diambil :\",ambil_uang)\n",
    "        print (\"saldo akhir : \", hasil)\n",
    "\n",
    "rekening1=rekening (123456,5000)\n",
    "rekening1.ambil_uang()\n",
    "f\n",
    "        \n",
    "        "
   ]
  },
  {
   "cell_type": "markdown",
   "metadata": {},
   "source": [
    "# CLASS PEGAWAI"
   ]
  },
  {
   "cell_type": "code",
   "execution_count": 7,
   "metadata": {},
   "outputs": [
    {
     "name": "stdout",
     "output_type": "stream",
     "text": [
      "Nomer :  1\n",
      "Nama :  dhea\n",
      "Tgl Lahir :  1999\n",
      "Tahun Sekarang : 2018\n",
      "Umur Pegawai :  19\n"
     ]
    }
   ],
   "source": [
    "class Pegawai:\n",
    "    def __init__ (self,n,m,i):\n",
    "        self.nomer= n\n",
    "        self.nama = m\n",
    "        self.tgllahir = i\n",
    "    \n",
    "    def tampilkannama(self):\n",
    "        print (\"Nomer : \",self.nomer)\n",
    "        print (\"Nama : \",self.nama)\n",
    "        print (\"Tgl Lahir : \",self.tgllahir)\n",
    "        \n",
    "    def umur(self) :\n",
    "        thn_skr=int (input(\"Tahun Sekarang : \"))\n",
    "        umur = thn_skr - self.tgllahir\n",
    "        print (\"Umur Pegawai : \", umur)\n",
    "        \n",
    "Pegawai1= Pegawai (1,\"dhea\", 1999)\n",
    "Pegawai1.tampilkannama()\n",
    "Pegawai1.umur ()\n",
    "\n"
   ]
  },
  {
   "cell_type": "code",
   "execution_count": null,
   "metadata": {},
   "outputs": [],
   "source": []
  }
 ],
 "metadata": {
  "kernelspec": {
   "display_name": "Python 3",
   "language": "python",
   "name": "python3"
  },
  "language_info": {
   "codemirror_mode": {
    "name": "ipython",
    "version": 3
   },
   "file_extension": ".py",
   "mimetype": "text/x-python",
   "name": "python",
   "nbconvert_exporter": "python",
   "pygments_lexer": "ipython3",
   "version": "3.6.5"
  }
 },
 "nbformat": 4,
 "nbformat_minor": 2
}
