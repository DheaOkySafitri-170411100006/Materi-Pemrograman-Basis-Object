{
 "cells": [
  {
   "cell_type": "markdown",
   "metadata": {},
   "source": [
    "# MATERI PBO PERTEMUAN KE-2 (INHERITANCE)"
   ]
  },
  {
   "cell_type": "markdown",
   "metadata": {},
   "source": [
    "INHERITANCE dimana paren class dan subclass, subclass mewarisi properti kelas induk. kita dapat mengakses semua,menambahkan, memodifikasi properti atau method dikelas anak.Inheritance atau pewarisan yaitu hubungan antar class. Dimana suatu class memiliki atribut atau method yang sama dengan class yang lain beserta atribut dan method tambahan yang menjadi sifat khusus class turunannya atau subclass atau disebut dengan class anak, sedangkan kelas orang tua disebut juga dengan superclass . Class anak yaitu biasanya memiliki jenis atau atribut yang lebih khusus. Inheritance memiliki 3 macam, yaitu Super,Override dan Multiple Inheritance.\n"
   ]
  },
  {
   "cell_type": "code",
   "execution_count": 1,
   "metadata": {},
   "outputs": [
    {
     "name": "stdout",
     "output_type": "stream",
     "text": [
      "Name : brian\n",
      "Name : diana\n",
      "Name : diana\n",
      "Programming Python\n"
     ]
    }
   ],
   "source": [
    "class User:\n",
    "    def __init__(self, name):\n",
    "        self.name = name\n",
    "        \n",
    "    def printName(self):\n",
    "        print(\"Name : \" + self.name)\n",
    "        \n",
    "class Programmer(User): #inheritance superClass-1(untuk memanggil print name bukan hanya muncul last name saja)\n",
    "    def __init__(self,lastname):\n",
    "        self.lastname = lastname\n",
    "        \n",
    "    def printlastname(self):\n",
    "        print(\"Name : \" + self.lastname)\n",
    "        \n",
    "    def doPython(self):\n",
    "        print(\"Programming Python\")\n",
    "        \n",
    "class Programmer1(User):\n",
    "    pass\n",
    "\n",
    "brian = User(\"brian\")\n",
    "brian.printName()\n",
    "\n",
    "diana1 = Programmer1(\"diana\")\n",
    "diana1.printName()\n",
    "\n",
    "diana = Programmer(\"diana\")\n",
    "diana.printlastname()\n",
    "diana.doPython()\n"
   ]
  },
  {
   "cell_type": "code",
   "execution_count": 2,
   "metadata": {},
   "outputs": [
    {
     "name": "stdout",
     "output_type": "stream",
     "text": [
      "TerryFish\n",
      "bone\n",
      "False\n",
      "The fish is swiming\n",
      "The fish can swim backwards\n",
      "TerrySFish\n",
      "no bone\n",
      "True\n"
     ]
    }
   ],
   "source": [
    "class Fish :\n",
    "    def __init__(self,firstname, lastname= \"Fish\",\n",
    "                skeleton =\"bone\", eyelids= False):\n",
    "        self.firstname = firstname\n",
    "        self.lastname = lastname\n",
    "        self.skeleton = skeleton\n",
    "        self.eyelids = eyelids\n",
    "    def swim(self):\n",
    "        print (\"The fish is swiming\")\n",
    "    def swim_backwards(self):\n",
    "        print (\"The fish can swim backwards\")\n",
    "\n",
    "class Trout(Fish):\n",
    "    pass\n",
    "\n",
    "class Clownfish(Fish):\n",
    "    def live_with_anemone(self):\n",
    "        print (\"The clownfish is coexisting with sea anemoene\")\n",
    "\n",
    "terry = Trout(\"Terry\")\n",
    "print (terry.firstname+\"\"+terry.lastname)\n",
    "print (terry.skeleton)\n",
    "print (terry.eyelids)\n",
    "terry.swim()\n",
    "terry.swim_backwards()\n",
    "\n",
    "terry1=Trout(\"TerryS\", \"SmallFish\", \"no bone\", True)\n",
    "print (terry1.firstname+\"\"+terry.lastname)\n",
    "print(terry1.skeleton)\n",
    "print(terry1.eyelids)"
   ]
  },
  {
   "cell_type": "code",
   "execution_count": null,
   "metadata": {},
   "outputs": [],
   "source": []
  }
 ],
 "metadata": {
  "kernelspec": {
   "display_name": "Python 3",
   "language": "python",
   "name": "python3"
  },
  "language_info": {
   "codemirror_mode": {
    "name": "ipython",
    "version": 3
   },
   "file_extension": ".py",
   "mimetype": "text/x-python",
   "name": "python",
   "nbconvert_exporter": "python",
   "pygments_lexer": "ipython3",
   "version": "3.6.5"
  }
 },
 "nbformat": 4,
 "nbformat_minor": 2
}
