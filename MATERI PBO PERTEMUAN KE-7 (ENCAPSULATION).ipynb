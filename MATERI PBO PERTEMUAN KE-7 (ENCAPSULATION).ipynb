{
 "cells": [
  {
   "cell_type": "markdown",
   "metadata": {},
   "source": [
    "# MATERI PBO PERTEMUAN KE-7 (ENKAPSULASI)"
   ]
  },
  {
   "cell_type": "markdown",
   "metadata": {},
   "source": [
    "* Enkapsulasi adalah pembungkusan informasi yang tersembunyi supaya tidak terjadi hal yang tidak diinginkan atau eror.\n",
    "\n",
    "* supaya hal yang tidak diinginkan bisa membuat method baru di dalam kelas yang bersifat public kemudian kita mengakses method tsb. klo ada underscore itu private. \n",
    "\n",
    "* enkapsulasi tidak ada hubungannya dengan kela sinduk atau anak (super).\n",
    "\n",
    "* Private property bisa menggunakan 1 atau 2 underscor. \n",
    "\n",
    "* single underscore bisa diakses secara langsung tetapi jika double underscore tidak bisa diakses secara langsung.\n",
    "\n",
    "* property dan method cara penulisannyapenulisannya sama. public method tanpa underscore. \n",
    "\n",
    "* singgle underscore tidak perlu di encapsulasi. \n",
    "\n",
    "* jika ingin mengaksesnya dengan cara definisikan namaobject.nama kelas, atau dngn membuat method dalam kls tsb yg sifatnya public, dimana method ini mengakses property dari yg sifatnya private, kita cuma mengakses yg public. \n",
    "\n",
    "* set (mengisi) tidak bisa di print yang bisa di print yaitu get (atau memanggil dari nama atribut tsb)\n",
    "\n",
    "* contohnya: gamau tau bagaimana caranya pokok harus bisa menghidangkan makanan. makanan diakses dalam kelas tsb. supaya yang diluar kelas bisa merasakan makanan tsb. klo kita tdk bungkus, kita tdk bisa mengakses.\n",
    "\n",
    "* jadi dlm enkapsulasi ada publict Method, Private Method ,Publict Atribut dan Private Atribute."
   ]
  },
  {
   "cell_type": "markdown",
   "metadata": {},
   "source": [
    "# Berikut contoh contoh Codingannya"
   ]
  },
  {
   "cell_type": "code",
   "execution_count": 18,
   "metadata": {},
   "outputs": [
    {
     "name": "stdout",
     "output_type": "stream",
     "text": [
      "2\n",
      "luas 4\n"
     ]
    }
   ],
   "source": [
    "#atribut,tambahan,perantara,langsung\n",
    "\n",
    "class kubus:\n",
    "    __sisi=0\n",
    "    \n",
    "    def __init__ (self):\n",
    "        self.__sisi=2\n",
    "        \n",
    "    def tampilkansisi (self) :\n",
    "        print(self.__sisi)\n",
    "    \n",
    "    def __luas(self):\n",
    "        print (\"luas\",self.__sisi**2)\n",
    "    \n",
    "        \n",
    "        \n",
    "kubus1=kubus()\n",
    "kubus1.tampilkansisi()\n",
    "kubus1._kubus__luas()"
   ]
  },
  {
   "cell_type": "code",
   "execution_count": 12,
   "metadata": {},
   "outputs": [
    {
     "name": "stdout",
     "output_type": "stream",
     "text": [
      "updating sisi\n",
      "kubus\n",
      "updating sisi\n"
     ]
    }
   ],
   "source": [
    "class kubus:\n",
    "    \n",
    "    \n",
    "    def __init__ (self):\n",
    "        self.__updatesisi()\n",
    "        \n",
    "    def tampilkansisi (self) :\n",
    "        print(\"kubus\")\n",
    "    \n",
    "    def __updatesisi(self):\n",
    "        print(\"updating sisi\")\n",
    "    \n",
    "        \n",
    "        \n",
    "kubus1=kubus()\n",
    "kubus1.tampilkansisi()\n",
    "kubus1._kubus__updatesisi()"
   ]
  },
  {
   "cell_type": "code",
   "execution_count": 10,
   "metadata": {},
   "outputs": [
    {
     "name": "stdout",
     "output_type": "stream",
     "text": [
      "updating software\n",
      "driving\n",
      "updating software\n"
     ]
    }
   ],
   "source": [
    "class car:\n",
    "    def __init__ (self):\n",
    "        self.__updatesoftware()\n",
    "    def drive(self):\n",
    "        print(\"driving\")\n",
    "    def __updatesoftware(self):\n",
    "        print (\"updating software\")\n",
    "        \n",
    "redcar=car()\n",
    "redcar.drive()\n",
    "redcar._car__updatesoftware()"
   ]
  }
 ],
 "metadata": {
  "kernelspec": {
   "display_name": "Python 3",
   "language": "python",
   "name": "python3"
  },
  "language_info": {
   "codemirror_mode": {
    "name": "ipython",
    "version": 3
   },
   "file_extension": ".py",
   "mimetype": "text/x-python",
   "name": "python",
   "nbconvert_exporter": "python",
   "pygments_lexer": "ipython3",
   "version": "3.6.5"
  }
 },
 "nbformat": 4,
 "nbformat_minor": 2
}
