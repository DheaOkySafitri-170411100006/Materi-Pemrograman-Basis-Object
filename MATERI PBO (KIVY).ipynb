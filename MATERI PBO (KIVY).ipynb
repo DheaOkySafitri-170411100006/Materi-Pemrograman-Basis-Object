{
 "cells": [
  {
   "cell_type": "markdown",
   "metadata": {},
   "source": [
    "# MATERI PBO (KIVY)"
   ]
  },
  {
   "cell_type": "markdown",
   "metadata": {},
   "source": [
    "1. Pengenalan Kivy\n",
    "\n",
    "Kivy merupakan framework yang dibangun menggunakan library dari bahasa pemrograman Python yang bersifat Open Source. Tujuan dikembangkannya framework ini agar bisa membantu developer secara cepat dalam mengembangkan aplikasi. Framework ini dapat dijalankan pada sistem operasi Windows, Mac OS X, Linux, Android, hingga Raspberry Pi."
   ]
  },
  {
   "cell_type": "markdown",
   "metadata": {},
   "source": [
    "2. Contoh Program Aplikasi Calculator"
   ]
  },
  {
   "cell_type": "code",
   "execution_count": null,
   "metadata": {},
   "outputs": [],
   "source": [
    "import kivy\n",
    "kivy.require('1.0.7')\n",
    "\n",
    "from kivy.animation import Animation\n",
    "from kivy.app import App\n",
    "from kivy.uix.button import Button\n",
    "\n",
    "\n",
    "class TestApp(App):\n",
    "\n",
    "    def animate(self, instance):\n",
    "        # create an animation object. This object could be stored\n",
    "        # and reused each call or reused across different widgets.\n",
    "        # += is a sequential step, while &= is in parallel\n",
    "        animation = Animation(pos=(100, 100), t='out_bounce')\n",
    "        animation += Animation(pos=(200, 100), t='out_bounce')\n",
    "        animation &= Animation(size=(500, 500))\n",
    "        animation += Animation(size=(100, 50))\n",
    "\n",
    "        # apply the animation on the button, passed in the \"instance\" argument\n",
    "        # Notice that default 'click' animation (changing the button\n",
    "        # color while the mouse is down) is unchanged.\n",
    "        animation.start(instance)\n",
    "\n",
    "    def build(self):\n",
    "        # create a button, and  attach animate() method as a on_press handler\n",
    "        button = Button(size_hint=(None, None), text='plop',\n",
    "                        on_press=self.animate)\n",
    "        return button\n",
    "\n",
    "\n",
    "if __name__ == '__main__':\n",
    "    TestApp().run()\n"
   ]
  }
 ],
 "metadata": {
  "kernelspec": {
   "display_name": "Python 3",
   "language": "python",
   "name": "python3"
  },
  "language_info": {
   "codemirror_mode": {
    "name": "ipython",
    "version": 3
   },
   "file_extension": ".py",
   "mimetype": "text/x-python",
   "name": "python",
   "nbconvert_exporter": "python",
   "pygments_lexer": "ipython3",
   "version": "3.6.5"
  }
 },
 "nbformat": 4,
 "nbformat_minor": 2
}
