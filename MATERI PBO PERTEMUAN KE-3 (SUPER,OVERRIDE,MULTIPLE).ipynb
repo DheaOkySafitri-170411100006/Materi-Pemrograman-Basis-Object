{
 "cells": [
  {
   "cell_type": "markdown",
   "metadata": {},
   "source": [
    "# PBO PERTEMUAN KE-3, 17 SEPTEMBER 2018"
   ]
  },
  {
   "cell_type": "markdown",
   "metadata": {},
   "source": [
    "Berikut Macam-Macam Inheritance:"
   ]
  },
  {
   "cell_type": "markdown",
   "metadata": {},
   "source": [
    "1. Super\n",
    "\n",
    "    Super yaitu mengambil Method yang ada pada superclass. Fungsi super yaitu mengembalikan atribut dan method dari objek superclass. Fungsi Super digunakan jika membutuhkan properti khusus atau properti yang beda dengan induknya."
   ]
  },
  {
   "cell_type": "markdown",
   "metadata": {},
   "source": [
    "2. Override\n",
    "    Override yaitu melakukan penggantian method dari superclass di subclass. Dalam Fungsi Override ini tidak ada penambahan properti."
   ]
  },
  {
   "cell_type": "markdown",
   "metadata": {},
   "source": [
    "3. Multiple Inheritance\n",
    "    Multiple Inheritance yaitu memiliki dua atau lebih parent class, mewarisi semua property dengan mengkombinasikan 2 parent atau lebih semua method atau property."
   ]
  },
  {
   "cell_type": "markdown",
   "metadata": {},
   "source": [
    "1. CONTOH OVERRIDING"
   ]
  },
  {
   "cell_type": "code",
   "execution_count": null,
   "metadata": {},
   "outputs": [],
   "source": [
    "class Fish:\n",
    "    def __init__ (self,first_name,last_name='Fish',skeleton='bone',eyelids=False):\n",
    "        self.first_name=first_name\n",
    "        self.last_name=last_name\n",
    "        self.skeleton=skeleton\n",
    "        self.eyelids=eyelids\n",
    "    def swim (self):\n",
    "        print ('The Fish is swimming')\n",
    "    def swim_backwards(self):\n",
    "        print ('The Fish can swim backwards')\n",
    "        \n",
    "class shark (Fish):\n",
    "    def __init__ (self,first_name,last_name='Shark',skeleton='cartilage',eyelids=False):\n",
    "        self.first_name=first_name\n",
    "        self.last_name=last_name\n",
    "        self.skeleton=skeleton\n",
    "        self.eyelids=eyelids\n",
    "    def swim_backwards(self):\n",
    "        print (\"The Fish can't swim backwards, but can sink backwards\")\n",
    "hiu=shark (\"hiu besar\")\n",
    "hiu.swim_backwards()\n",
    "    "
   ]
  },
  {
   "cell_type": "code",
   "execution_count": 1,
   "metadata": {},
   "outputs": [
    {
     "name": "stdout",
     "output_type": "stream",
     "text": [
      "keempatnya memiliki panjang sisi yang sama, bentuknya : bujur sangkar\n",
      "memiliki dua pasang sisi berbeda,bentuknya : PErsegi Panjang\n",
      "keempatnya memiliki panjang sisi yang sama, bentuknya : bujur sangkar\n"
     ]
    }
   ],
   "source": [
    "class Persegi:\n",
    "    def __init__ (self,sisi=4,bentuk=\"Persegi\"):\n",
    "        self.sisi=sisi\n",
    "        self.bentuk=bentuk\n",
    "    def display (self):\n",
    "        print (\"jumlah sisi persegi adalah\", self.sisi)\n",
    "        print (\"bentuknya adalah : \", self.bentuk)\n",
    "        \n",
    "class Persegi_Panjang (Persegi):\n",
    "    def __init__ (self,bentuk=\"PErsegi Panjang\"):\n",
    "        self.bentuk=bentuk\n",
    "    def deskripsi (self):\n",
    "        print (\"memiliki dua pasang sisi berbeda,bentuknya :\", self.bentuk)\n",
    "        \n",
    "class Bujur_sangkar (Persegi):\n",
    "    def __init__ (self, bentuk=\"bujur sangkar\"):\n",
    "        self.bentuk=bentuk\n",
    "    def deskripsi (self):\n",
    "        print (\"keempatnya memiliki panjang sisi yang sama, bentuknya :\", self.bentuk)\n",
    "        \n",
    "a=Bujur_sangkar ()\n",
    "a.deskripsi ()\n",
    "b=Persegi_Panjang ()\n",
    "b.deskripsi ()\n",
    "c=Bujur_sangkar ()\n",
    "c.deskripsi ()\n"
   ]
  },
  {
   "cell_type": "markdown",
   "metadata": {},
   "source": [
    "2. CONTOH SUPER"
   ]
  },
  {
   "cell_type": "code",
   "execution_count": 1,
   "metadata": {},
   "outputs": [
    {
     "name": "stdout",
     "output_type": "stream",
     "text": [
      "====== No. 1 =======\n",
      "First Name : Sitti\n",
      "First Name : Sitti\n",
      "Last Name : Suwaibah \n",
      "\n",
      "Nama lengkap: Sitti Suwaibah \n",
      "\n",
      "First Name : Wijanarko\n",
      "First Name : Wijanarko\n",
      "Last Name : Putra Rajeb \n",
      "\n",
      "Nama lengkap: Wijanarko Putra Rajeb \n",
      "\n",
      "====== No. 2 =======\n",
      "Mahasiswa :\n",
      "Nama : Jonathan\n",
      "NIM  : 180411100000\n",
      "Semester : 1\n",
      "\n",
      "Dosen :\n",
      "Nama : Arik Kurniawati\n",
      "NIP  : 123904\n",
      "NIDN : 198304\n",
      "\n",
      "Karyawan :\n",
      "Nama : Bramantiyo\n",
      "NIP  : 123345\n"
     ]
    }
   ],
   "source": [
    "print('====== No. 1 =======')\n",
    "class User:\n",
    "    def __init__(self, firstname):\n",
    "        self.firstname = firstname\n",
    "    def printName(self):\n",
    "        print('First Name :', self.firstname)\n",
    "\n",
    "class Programmer(User):\n",
    "    def __init__(self, firstname, lastname):\n",
    "        self.lastname = lastname\n",
    "        super().__init__(firstname)\n",
    "    def printLastname(self):\n",
    "        print('Last Name :', self.lastname,'\\n')\n",
    "\n",
    "    def printData(self):\n",
    "        print('Nama lengkap:',self.firstname,self.lastname,'\\n')\n",
    "\n",
    "#Main Program NO. 1\n",
    "sitti = User(\"Sitti\")\n",
    "sitti.printName()\n",
    "sitti1 = Programmer('Sitti','Suwaibah')\n",
    "sitti1.printName()\n",
    "sitti1.printLastname()\n",
    "sitti1.printData()\n",
    "\n",
    "wija = User('Wijanarko')\n",
    "wija.printName()\n",
    "wija1 = Programmer('Wijanarko','Putra Rajeb')\n",
    "wija1.printName()\n",
    "wija1.printLastname()\n",
    "wija1.printData()\n",
    "\n",
    "        \n",
    "print('====== No. 2 =======')\n",
    "class Orang:\n",
    "    def __init__(self,nama):\n",
    "        self.nama = nama;\n",
    "    def printNama(self):\n",
    "        print('Nama :',self.nama)\n",
    "\n",
    "class Mahasiswa(Orang):\n",
    "    def __init__(self, nama, npm):\n",
    "        self.npm = npm;\n",
    "        super().__init__(nama)\n",
    "        \n",
    "    def semester(self):\n",
    "        from datetime import datetime\n",
    "        tahun = datetime.now().year\n",
    "        bulan = datetime.now().month\n",
    "        tahun_in = '20'+self.npm[0:2]\n",
    "        self.semester = (tahun - int(tahun_in))*2\n",
    "        if bulan > 6:\n",
    "            self.semester += 1\n",
    "        print(\"Semester :\", self.semester)\n",
    "    def printData(self):\n",
    "        print('Mahasiswa :')\n",
    "        Orang.printNama(self)\n",
    "        print('NIM  :', self.npm)\n",
    "        Mahasiswa.semester(self)\n",
    "        print()\n",
    "\n",
    "class Pegawai(Orang):\n",
    "    def __init__(self, nama, nip):\n",
    "        self.nip = nip\n",
    "        super().__init__(nama)\n",
    "            \n",
    "class Dosen(Pegawai):\n",
    "    def __init__(self,nama, nip, nidn):\n",
    "        self.nidn = nidn\n",
    "        super().__init__(nama, nip)\n",
    "    def printData(self):\n",
    "        print('Dosen :')\n",
    "        Orang.printNama(self)\n",
    "        print('NIP  : %s\\nNIDN : %s\\n'%(self.nip, self.nidn))\n",
    "\n",
    "class Karyawan(Pegawai):\n",
    "    def printData(self):\n",
    "        print('Karyawan :')\n",
    "        Orang.printNama(self)\n",
    "        print('NIP  :',self.nip)\n",
    "\n",
    "\n",
    "#Main Program No. 2\n",
    "joddi = Mahasiswa('Jonathan','180411100000')\n",
    "joddi.printData()\n",
    "\n",
    "arik = Dosen('Arik Kurniawati','123904','198304')\n",
    "arik.printData()\n",
    "\n",
    "\n",
    "bram = Karyawan('Bramantiyo','123345')\n",
    "bram.printData()\n"
   ]
  },
  {
   "cell_type": "markdown",
   "metadata": {},
   "source": [
    "3. CONTOH MULTIPLE INHERITANCE\n"
   ]
  },
  {
   "cell_type": "code",
   "execution_count": 1,
   "metadata": {},
   "outputs": [
    {
     "name": "stdout",
     "output_type": "stream",
     "text": [
      "nama:dhea\n",
      "npm:17\n",
      "Nilai :\n",
      "match :100\n",
      "bioogy:100\n",
      "nama:dhea\n",
      "npm:17\n",
      "Nilai :\n",
      "match :100\n",
      "bioogy:80\n",
      "\n",
      "\n",
      "ame : dhea\n",
      "npm: 17\n",
      "Nilai :  200\n",
      "\n",
      "\n",
      "ame : dhea\n",
      "npm: 17\n",
      "Nilai :  180\n"
     ]
    }
   ],
   "source": [
    "class person:\n",
    "    def __init__ (self):\n",
    "        self.name = input (\"nama:\")\n",
    "        \n",
    "    def display (self):\n",
    "        print (\"\\n\\name :\", self.name)\n",
    "        \n",
    "class marks:\n",
    "    def __init__ (self):\n",
    "        self.npm = input (\"npm:\")\n",
    "        print (\"Nilai :\")\n",
    "        self.match = int (input (\"match :\"))\n",
    "        self.biology = int (input(\"bioogy:\"))\n",
    "        \n",
    "    def display (self):\n",
    "        print (\"npm:\", self.npm)\n",
    "        print (\"Nilai : \", self.match + self.biology)\n",
    "        \n",
    "class student (person,marks):\n",
    "    def __init__ (self):\n",
    "        person. __init__ (self)\n",
    "        marks. __init__ (self)\n",
    "        \n",
    "    def result (self):\n",
    "        person.display (self)\n",
    "        marks.display (self)\n",
    "        \n",
    "stu1=student ()\n",
    "stu2=student ()\n",
    "stu1.result ()\n",
    "stu2.result ()"
   ]
  },
  {
   "cell_type": "code",
   "execution_count": null,
   "metadata": {},
   "outputs": [],
   "source": []
  }
 ],
 "metadata": {
  "kernelspec": {
   "display_name": "Python 3",
   "language": "python",
   "name": "python3"
  },
  "language_info": {
   "codemirror_mode": {
    "name": "ipython",
    "version": 3
   },
   "file_extension": ".py",
   "mimetype": "text/x-python",
   "name": "python",
   "nbconvert_exporter": "python",
   "pygments_lexer": "ipython3",
   "version": "3.6.5"
  }
 },
 "nbformat": 4,
 "nbformat_minor": 2
}
