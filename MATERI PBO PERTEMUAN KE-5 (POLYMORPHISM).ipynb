{
 "cells": [
  {
   "cell_type": "markdown",
   "metadata": {},
   "source": [
    "# POLYMORPHISM "
   ]
  },
  {
   "cell_type": "markdown",
   "metadata": {},
   "source": [
    "* CLASS mendefinisikan prilaku object. dimana object memunyai properti.\n",
    "\n",
    "* INHERITANCE dimana paren class dan subclass, subclass mewarisi properti kelas induk. kita dapat mengakses semua,menambahkan, memodifikasi properti atau method dikelas anak.\n",
    "\n",
    "* POLYMORPHISM terdiri atas dua kata yaitu Poli dan Morphism. Poli memiliki arti banyak, sedangkan Morphism memiliki artibentuk. Mempunyai nama yang sama, tapi tidak mesti menghasilkan hasil yang sama.\n",
    "\n",
    "* Polimorfisme terjadi saat suatu obyek pada parent class, tapi pemanggilan constructornya melalui subclassnya.\n",
    "\n"
   ]
  },
  {
   "cell_type": "markdown",
   "metadata": {},
   "source": [
    "* Abstract class adalah sebuah class yang tidak bisa dibuat menjadi objek. Dimana didalam abstract class tersebut memiliki abstract method."
   ]
  },
  {
   "cell_type": "code",
   "execution_count": 2,
   "metadata": {},
   "outputs": [
    {
     "name": "stdout",
     "output_type": "stream",
     "text": [
      "The shark's skeleton is made of cartilage\n",
      "The clownfish's skeleton is made of bone\n"
     ]
    }
   ],
   "source": [
    "# Biasa\n",
    "\n",
    "class shark ():\n",
    "    def swim (self):\n",
    "        print (\"The Shark is Swimming\")\n",
    "    def swim_backwards(self):\n",
    "        print (\"The Shark cannot Swimming backwards, but can swim backwards\")\n",
    "    def skeleton (self):\n",
    "        print (\"The shark's skeleton is made of cartilage\")\n",
    "        \n",
    "class clownfish():\n",
    "    def swim (self):\n",
    "        print (\"The clownfish is Swimming\")\n",
    "    def swim_backwards(self):\n",
    "        print (\"The clownfish cannot Swimming backwards\")\n",
    "    def skeleton (self):\n",
    "        print (\"The clownfish's skeleton is made of bone\")\n",
    "        \n",
    "sammy=shark ()\n",
    "sammy.skeleton()\n",
    "\n",
    "casey=clownfish()\n",
    "casey.skeleton()\n",
    "\n",
    "\n",
    "    \n",
    "        \n",
    "        "
   ]
  },
  {
   "cell_type": "markdown",
   "metadata": {},
   "source": [
    "contoh dengan menggunakan Method"
   ]
  },
  {
   "cell_type": "code",
   "execution_count": 3,
   "metadata": {},
   "outputs": [
    {
     "name": "stdout",
     "output_type": "stream",
     "text": [
      "The Shark is Swimming\n",
      "The Shark cannot Swimming backwards, but can swim backwards\n",
      "The shark's skeleton is made of cartilage\n",
      "The clownfish is Swimming\n",
      "The clownfish cannot Swimming backwards\n",
      "The clownfish's skeleton is made of bone\n"
     ]
    }
   ],
   "source": [
    "#Method\n",
    "\n",
    "class shark ():\n",
    "    def swim (self):\n",
    "        print (\"The Shark is Swimming\")\n",
    "    def swim_backwards(self):\n",
    "        print (\"The Shark cannot Swimming backwards, but can swim backwards\")\n",
    "    def skeleton (self):\n",
    "        print (\"The shark's skeleton is made of cartilage\")\n",
    "        \n",
    "class clownfish():\n",
    "    def swim (self):\n",
    "        print (\"The clownfish is Swimming\")\n",
    "    def swim_backwards(self):\n",
    "        print (\"The clownfish cannot Swimming backwards\")\n",
    "    def skeleton (self):\n",
    "        print (\"The clownfish's skeleton is made of bone\")\n",
    "        \n",
    "sammy=shark ()\n",
    "casey=clownfish()\n",
    "\n",
    "for fish in (sammy,casey):\n",
    "    fish.swim ()\n",
    "    fish.swim_backwards()\n",
    "    fish.skeleton()\n"
   ]
  },
  {
   "cell_type": "markdown",
   "metadata": {},
   "source": [
    "contoh dengan menggunakan Function"
   ]
  },
  {
   "cell_type": "code",
   "execution_count": 4,
   "metadata": {},
   "outputs": [
    {
     "name": "stdout",
     "output_type": "stream",
     "text": [
      "The Shark is Swimming\n",
      "The clownfish is Swimming\n"
     ]
    }
   ],
   "source": [
    "#Function\n",
    "\n",
    "class shark ():\n",
    "    def swim (self):\n",
    "        print (\"The Shark is Swimming\")\n",
    "    def swim_backwards(self):\n",
    "        print (\"The Shark cannot Swimming backwards, but can swim backwards\")\n",
    "    def skeleton (self):\n",
    "        print (\"The shark's skeleton is made of cartilage\")\n",
    "        \n",
    "class clownfish():\n",
    "    def swim (self):\n",
    "        print (\"The clownfish is Swimming\")\n",
    "    def swim_backwards(self):\n",
    "        print (\"The clownfish cannot Swimming backwards\")\n",
    "    def skeleton (self):\n",
    "        print (\"The clownfish's skeleton is made of bone\")\n",
    "\n",
    "def in_the_pacific (fish):\n",
    "    fish.swim()\n",
    "        \n",
    "sammy=shark ()\n",
    "casey=clownfish()\n",
    "\n",
    "in_the_pacific(sammy)\n",
    "in_the_pacific(casey)\n"
   ]
  },
  {
   "cell_type": "markdown",
   "metadata": {},
   "source": [
    "# LATIHAN "
   ]
  },
  {
   "cell_type": "code",
   "execution_count": 3,
   "metadata": {},
   "outputs": [
    {
     "name": "stdout",
     "output_type": "stream",
     "text": [
      "nama: budi\n",
      "Gaji: Rp. 1000\n",
      "Gaji+Tunjangan: Rp. 3000\n",
      "nama: andre\n",
      "Gaji: Rp. 2000\n",
      "Gaji+Tunjangan: Rp. 5000\n",
      "Nama: budi\n",
      "Gaji: Rp. 1000\n",
      "Gaji+Tunjangan: Rp. 3000\n",
      "Nama: andre\n",
      "Gaji: Rp. 2000\n",
      "Gaji+Tunjangan: Rp. 5000\n"
     ]
    }
   ],
   "source": [
    "#class Abstrac\n",
    "\n",
    "class pegawai ():\n",
    "    def __init__ (self,nama,gaji):\n",
    "        self.nama=nama\n",
    "        self.gaji=gaji\n",
    "    def Gaji(self):\n",
    "        raise NotImplementedError (\"Subclass must implement abstract method\")\n",
    "        \n",
    "class manager (pegawai):\n",
    "    def __init__(self,nama, gaji, tunjangan):\n",
    "        super().__init__(nama, gaji)\n",
    "        self.tunjangan = tunjangan\n",
    "    def Gaji(self):\n",
    "        print (\"Gaji: Rp.\",self.gaji)\n",
    "    def gaji_tambahan (self):\n",
    "        print (\"Gaji+Tunjangan: Rp.\", self.gaji+self.tunjangan)\n",
    "    \n",
    "        \n",
    "class programmer(pegawai):\n",
    "    def __init__(self,nama, gaji, bonus):\n",
    "        super().__init__(nama, gaji)\n",
    "        self.bonus = bonus\n",
    "    def Gaji(self):\n",
    "        print (\"Gaji: Rp.\",self.gaji)\n",
    "    def gaji_tambahan (self):\n",
    "        print (\"Gaji+Tunjangan: Rp.\", self.gaji+self.bonus)\n",
    "        \n",
    "#with function\n",
    "\n",
    "def in_my_home (worker):\n",
    "    print (\"nama:\", worker.nama)\n",
    "    worker.Gaji ()\n",
    "    worker.gaji_tambahan()\n",
    "    \n",
    "budi=manager (\"budi\",1000,2000)\n",
    "andre=programmer (\"andre\",2000,3000)\n",
    "\n",
    "in_my_home (budi)\n",
    "in_my_home(andre)\n",
    "    \n",
    "for worker in (budi,andre):\n",
    "    print (\"Nama:\",worker.nama)\n",
    "    worker.Gaji ()\n",
    "    worker.gaji_tambahan ()"
   ]
  },
  {
   "cell_type": "code",
   "execution_count": null,
   "metadata": {},
   "outputs": [],
   "source": []
  },
  {
   "cell_type": "code",
   "execution_count": 4,
   "metadata": {},
   "outputs": [
    {
     "name": "stdout",
     "output_type": "stream",
     "text": [
      "nama: budi\n",
      "Gaji: Rp. 10.000\n",
      "Gaji+Tunjangan: Rp. 25000\n",
      "nama: andre\n",
      "Gaji: Rp. 10.000\n",
      "Gaji+Tunjangan: Rp. 160000\n",
      "Nama: budi\n",
      "Gaji: Rp. 10.000\n",
      "Gaji+Tunjangan: Rp. 25000\n",
      "Nama: andre\n",
      "Gaji: Rp. 10.000\n",
      "Gaji+Tunjangan: Rp. 160000\n"
     ]
    }
   ],
   "source": [
    "class manager:\n",
    "    def __init__(self,nama,tunjangan):\n",
    "        self.nama=nama\n",
    "        self.tunjangan=tunjangan\n",
    "    def Gaji(self):\n",
    "        print (\"Gaji: Rp. 10.000\")\n",
    "    def gaji_tambahan (self):\n",
    "        print (\"Gaji+Tunjangan: Rp.\",10000 +self.tunjangan)\n",
    "            \n",
    "class programmer:\n",
    "    def __init__(self,nama,bonus):\n",
    "        self.nama=nama\n",
    "        self.bonus=bonus\n",
    "    def Gaji(self):\n",
    "        print (\"Gaji: Rp. 10.000\")\n",
    "    def gaji_tambahan (self):\n",
    "        print (\"Gaji+Tunjangan: Rp.\", 10000+self.bonus)\n",
    "\n",
    "\n",
    "def in_my_home (worker):\n",
    "    print (\"nama:\", worker.nama)\n",
    "    worker.Gaji ()\n",
    "    worker.gaji_tambahan()\n",
    "    \n",
    "budi=manager (\"budi\",15000)\n",
    "andre=programmer (\"andre\",150000)\n",
    "\n",
    "in_my_home (budi)\n",
    "in_my_home(andre)\n",
    "    \n",
    "for worker in (budi,andre):\n",
    "    print (\"Nama:\",worker.nama)\n",
    "    worker.Gaji ()\n",
    "    worker.gaji_tambahan ()"
   ]
  },
  {
   "cell_type": "code",
   "execution_count": null,
   "metadata": {},
   "outputs": [],
   "source": []
  }
 ],
 "metadata": {
  "kernelspec": {
   "display_name": "Python 3",
   "language": "python",
   "name": "python3"
  },
  "language_info": {
   "codemirror_mode": {
    "name": "ipython",
    "version": 3
   },
   "file_extension": ".py",
   "mimetype": "text/x-python",
   "name": "python",
   "nbconvert_exporter": "python",
   "pygments_lexer": "ipython3",
   "version": "3.6.5"
  }
 },
 "nbformat": 4,
 "nbformat_minor": 2
}
