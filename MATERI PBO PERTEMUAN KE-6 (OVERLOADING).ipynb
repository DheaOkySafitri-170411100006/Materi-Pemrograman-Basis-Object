{
 "cells": [
  {
   "cell_type": "markdown",
   "metadata": {},
   "source": [
    "# OVERLOADING"
   ]
  },
  {
   "cell_type": "markdown",
   "metadata": {},
   "source": [
    "* method OVERloading functionnya bisa banyak model. MO sebuah method dengan multiple cara saat memanggilnya. boleh dengan cara atau method yang kita definisikan. method sama, pemanggilan dengan cara yang berbeda. method terakhir ynag dijalankan yang dapat dijalankan, krn, sebenarnya python tidak mensuport method overloading. agara banyak method bisa dijalankan, harus mengubah banyak method cuma dijadikan satu, jadi 1 method pemanggilannya bisa banyak. mendefinisikan 1 method dengan pemanggilannya harus banyak. menyiasatinnya dengan cara \n",
    "\n",
    "* operator (+) disebut juga special atau magic Method. init,add\n",
    "\n",
    "* operator overloading operator bisa banyak\n",
    " "
   ]
  },
  {
   "cell_type": "code",
   "execution_count": 5,
   "metadata": {},
   "outputs": [
    {
     "name": "stdout",
     "output_type": "stream",
     "text": [
      "11\n",
      "hidhea\n"
     ]
    }
   ],
   "source": [
    "def add (datatype,*args):\n",
    "    if datatype=='int':\n",
    "        answer=0\n",
    "    if datatype=='str':\n",
    "        answer=''\n",
    "    \n",
    "    for x in args:\n",
    "        answer=answer+x\n",
    "    print (answer)\n",
    "    \n",
    "#int\n",
    "add ('int',5,6)\n",
    "\n",
    "add ('str',\"hi\",\"dhea\")"
   ]
  },
  {
   "cell_type": "code",
   "execution_count": 4,
   "metadata": {},
   "outputs": [
    {
     "name": "stdout",
     "output_type": "stream",
     "text": [
      "Hello\n"
     ]
    }
   ],
   "source": [
    "class Human:\n",
    "    def sayHello (self, name=None):\n",
    "        if name is not None:\n",
    "            print ('Hello'+ name)\n",
    "        else:\n",
    "            print ('Hello')\n",
    "            \n",
    "#create instance\n",
    "obj=Human\n",
    "obj.sayHello(\"dhea\")"
   ]
  },
  {
   "cell_type": "code",
   "execution_count": 23,
   "metadata": {},
   "outputs": [
    {
     "name": "stdout",
     "output_type": "stream",
     "text": [
      "point object is at:(3, 1)\n",
      "point object is at:(3, 1)\n"
     ]
    }
   ],
   "source": [
    "class point:\n",
    "    def __init__ (self,x=0,y=0):\n",
    "        self.x=x\n",
    "        self.y=y\n",
    "        \n",
    "    def __str__ (self):\n",
    "        return \"{(0),(1)}\".format (self.x,self.y)\n",
    "    \n",
    "    def __str__ (self):\n",
    "        return \"point object is at:(\"+str (self.x)+\", \"+str(self.y)+\")\"\n",
    "    def __add__ (self,other):\n",
    "        x=self.x-other.x\n",
    "        y=self.y-other.y\n",
    "        return point (x,y)\n",
    "   \n",
    "    \n",
    "    \n",
    "p1=point (2,3)\n",
    "p2=point (-1,2)\n",
    "print (p1+p2)\n",
    "print (p1.__add__(p2))"
   ]
  },
  {
   "cell_type": "code",
   "execution_count": 15,
   "metadata": {},
   "outputs": [
    {
     "name": "stdout",
     "output_type": "stream",
     "text": [
      "2 / 4\n",
      "2/4\n",
      "10/8\n",
      "3/8\n"
     ]
    }
   ],
   "source": [
    "#SPECIAL METHOD\n",
    "\n",
    "class fraction:\n",
    "    def __init__(self,top,bottom):\n",
    "        self.num=top\n",
    "        self.den=bottom\n",
    "    def show (self):\n",
    "        print (self.num,\"/\",self.den)\n",
    "    def __str__ (self):\n",
    "        return str(self.num)+\"/\"+str(self.den)\n",
    "    f=fraction (2,4)\n",
    "    show (f)\n",
    "    print (f)#special method yang berguna untuk mengubah suatu objek kedalam bentuk string\n",
    "    \n",
    "    def __add__ (self,otherfraction):\n",
    "        newnum=self.num*otherfraction.den+self.den*otherfraction.num\n",
    "        newden=self.den*otherfraction.den\n",
    "        \n",
    "        return fraction(newnum,newden)\n",
    "    \n",
    "    def __mul__ (self,otherfraction):\n",
    "        newnum=self.num*otherfraction.num\n",
    "        newden=self.den*otherfraction.den\n",
    "        \n",
    "        return fraction(newnum,newden)\n",
    "    \n",
    "        \n",
    "        \n",
    "f1= fraction (1,2)\n",
    "f2= fraction (3,4)\n",
    "print (f1+f2)\n",
    "print (f1*f2)"
   ]
  },
  {
   "cell_type": "code",
   "execution_count": null,
   "metadata": {},
   "outputs": [],
   "source": []
  }
 ],
 "metadata": {
  "kernelspec": {
   "display_name": "Python 3",
   "language": "python",
   "name": "python3"
  },
  "language_info": {
   "codemirror_mode": {
    "name": "ipython",
    "version": 3
   },
   "file_extension": ".py",
   "mimetype": "text/x-python",
   "name": "python",
   "nbconvert_exporter": "python",
   "pygments_lexer": "ipython3",
   "version": "3.6.5"
  }
 },
 "nbformat": 4,
 "nbformat_minor": 2
}
